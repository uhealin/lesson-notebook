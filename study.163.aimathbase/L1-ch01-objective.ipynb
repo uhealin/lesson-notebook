{
 "cells": [
  {
   "cell_type": "markdown",
   "metadata": {},
   "source": [
    "1.单选题 （2分）\n",
    "\n",
    "线性回归的输出值(预测值)是\n",
    "\n",
    "- A.离散值\n",
    "- B.连续值\n",
    "- C.离散和连续都有"
   ]
  },
  {
   "cell_type": "markdown",
   "metadata": {},
   "source": [
    "2.判断题 （2分）\n",
    "\n",
    "线性回归的输入值只能是标量?"
   ]
  },
  {
   "cell_type": "markdown",
   "metadata": {},
   "source": [
    "1.单选题 （2分）\n",
    "\n",
    "Hessian矩阵可认为对应于\n",
    "\n",
    "- A.一阶导数\n",
    "- B.二阶导数"
   ]
  },
  {
   "cell_type": "markdown",
   "metadata": {},
   "source": [
    "2.判断题 （2分）\n",
    "\n",
    "Hessian矩阵是非对称矩阵"
   ]
  },
  {
   "cell_type": "markdown",
   "metadata": {},
   "source": [
    "3 判断题 （2分）\n",
    "\n",
    "一个函数一定存在鞍点"
   ]
  },
  {
   "cell_type": "markdown",
   "metadata": {},
   "source": [
    "1.单选题 （2分）\n",
    "\n",
    "输入为向量的函数的泰勒级数二阶展开项是一个\n",
    "\n",
    "- A.内积形式\n",
    "- B.二次型"
   ]
  },
  {
   "cell_type": "markdown",
   "metadata": {},
   "source": [
    "2.判断题 （2分）\n",
    "\n",
    "梯度等于0的点是局部极小值或者局部极大值"
   ]
  },
  {
   "cell_type": "markdown",
   "metadata": {},
   "source": [
    "3 判断题 （2分）\n",
    "\n",
    "正定矩阵的特征值都大于等于0"
   ]
  },
  {
   "cell_type": "markdown",
   "metadata": {},
   "source": [
    "1.单选题 （2分）\n",
    "\n",
    "无约束优化迭代法的最核心部分是\n",
    "\n",
    "- A.找搜索方向\n",
    "- B.找最优步长\n",
    "- C.决定何时停止迭代"
   ]
  },
  {
   "cell_type": "markdown",
   "metadata": {},
   "source": [
    "2.判断题 （2分）\n",
    "\n",
    "拟牛顿法需要求取Hessian矩阵"
   ]
  },
  {
   "cell_type": "markdown",
   "metadata": {},
   "source": [
    "3.判断题 （2分）\n",
    "\n",
    "梯度下降法的搜索方向是正梯度方向"
   ]
  },
  {
   "cell_type": "markdown",
   "metadata": {},
   "source": [
    "1.单选题 （2分）\n",
    "\n",
    "线性回归模型的求解可以使用\n",
    "\n",
    "- A.梯度等于0 法\n",
    "- B.梯度下降法\n",
    "- C.两者都可以"
   ]
  },
  {
   "cell_type": "code",
   "execution_count": null,
   "metadata": {
    "collapsed": true
   },
   "outputs": [],
   "source": [
    "2.判断题 （2分）\n",
    "\n",
    "线性回归中使用随机梯度下降法可以减少计算复杂度"
   ]
  }
 ],
 "metadata": {
  "kernelspec": {
   "display_name": "Python 2",
   "language": "python",
   "name": "python2"
  },
  "language_info": {
   "codemirror_mode": {
    "name": "ipython",
    "version": 2
   },
   "file_extension": ".py",
   "mimetype": "text/x-python",
   "name": "python",
   "nbconvert_exporter": "python",
   "pygments_lexer": "ipython2",
   "version": "2.7.14"
  }
 },
 "nbformat": 4,
 "nbformat_minor": 2
}
