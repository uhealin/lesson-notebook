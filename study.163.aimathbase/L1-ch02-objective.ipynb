{
 "cells": [
  {
   "cell_type": "markdown",
   "metadata": {},
   "source": [
    "1.单选题 （2分）\n",
    "\n",
    "分类问题的输出值(预测值)是\n",
    "\n",
    "- A.离散值\n",
    "- B.连续值\n",
    "- C.离散和连续都有"
   ]
  },
  {
   "cell_type": "markdown",
   "metadata": {},
   "source": [
    "2.判断题 （2分）\n",
    "\n",
    "神经网络只能够做线性切分"
   ]
  },
  {
   "cell_type": "markdown",
   "metadata": {},
   "source": [
    "3.判断题 （2分）\n",
    "\n",
    "前馈神经网络每一层节点间可以相互连接"
   ]
  },
  {
   "cell_type": "code",
   "execution_count": null,
   "metadata": {
    "collapsed": true
   },
   "outputs": [],
   "source": []
  }
 ],
 "metadata": {
  "kernelspec": {
   "display_name": "Python 2",
   "language": "python",
   "name": "python2"
  },
  "language_info": {
   "codemirror_mode": {
    "name": "ipython",
    "version": 2
   },
   "file_extension": ".py",
   "mimetype": "text/x-python",
   "name": "python",
   "nbconvert_exporter": "python",
   "pygments_lexer": "ipython2",
   "version": "2.7.14"
  }
 },
 "nbformat": 4,
 "nbformat_minor": 2
}
