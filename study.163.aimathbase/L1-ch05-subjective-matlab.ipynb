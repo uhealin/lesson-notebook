{
 "cells": [
  {
   "cell_type": "code",
   "execution_count": 2,
   "metadata": {
    "collapsed": true
   },
   "outputs": [],
   "source": [
    "addpath('code')"
   ]
  },
  {
   "cell_type": "code",
   "execution_count": 3,
   "metadata": {
    "collapsed": true
   },
   "outputs": [],
   "source": [
    "load q1x.dat\n",
    "load q1y.dat"
   ]
  },
  {
   "cell_type": "code",
   "execution_count": 4,
   "metadata": {},
   "outputs": [
    {
     "name": "stdout",
     "output_type": "stream",
     "text": [
      "\n",
      "m =\n",
      "\n",
      "    99\n",
      "\n",
      "\n",
      "n =\n",
      "\n",
      "     2\n",
      "\n"
     ]
    }
   ],
   "source": [
    "X=q1x;\n",
    "\n",
    "y=2*(q1y-0.5);\n",
    "\n",
    "C =1;\n",
    "\n",
    "m=size(X,1)\n",
    "n=size(X,2)"
   ]
  },
  {
   "cell_type": "code",
   "execution_count": 5,
   "metadata": {},
   "outputs": [
    {
     "name": "stdout",
     "output_type": "stream",
     "text": [
      " \n",
      "Calling SDPT3 4.0: 205 variables, 101 equality constraints\n",
      "------------------------------------------------------------\n",
      "\n",
      " num. of constraints = 101\n",
      " dim. of sdp    var  =  4,   num. of sdp  blk  =  2\n",
      " dim. of linear var  = 198\n",
      " dim. of free   var  =  1 *** convert ublk to lblk\n",
      "*******************************************************************\n",
      "   SDPT3: Infeasible path-following algorithms\n",
      "*******************************************************************\n",
      " version  predcorr  gam  expon  scale_data\n",
      "   HKM      1      0.000   1        0    \n",
      "it pstep dstep pinfeas dinfeas  gap      prim-obj      dual-obj    cputime\n",
      "-------------------------------------------------------------------\n",
      " 0|0.000|0.000|1.5e+00|1.8e+01|7.9e+04| 2.796107e+03  0.000000e+00| 0:0:00| chol  1  1 \n",
      " 1|1.000|0.851|2.9e-06|2.7e+00|1.4e+04| 2.641007e+03  3.421279e+00| 0:0:01| chol  1  1 \n",
      " 2|0.939|0.139|1.4e-06|2.3e+00|1.4e+04| 2.711560e+03 -8.070857e+00| 0:0:01| chol  1  1 \n",
      " 3|1.000|0.487|1.3e-06|1.2e+00|9.0e+03| 2.679037e+03 -1.121256e+02| 0:0:01| chol  1  1 \n",
      " 4|0.993|0.853|7.1e-07|1.8e-01|1.9e+03| 1.230677e+03 -7.369791e+01| 0:0:01| chol  1  1 \n",
      " 5|1.000|0.186|3.9e-08|1.4e-01|1.3e+03| 8.336092e+02 -7.345460e+01| 0:0:01| chol  1  1 \n",
      " 6|0.963|0.816|9.7e-08|2.6e-02|4.4e+02| 3.787751e+02 -2.070697e+01| 0:0:01| chol  1  1 \n",
      " 7|1.000|0.237|2.5e-08|2.0e-02|3.3e+02| 2.951658e+02 -1.584194e+01| 0:0:01| chol  1  1 \n",
      " 8|1.000|0.526|4.6e-08|9.5e-03|1.7e+02| 1.646108e+02 -3.882817e-01| 0:0:02| chol  1  1 \n",
      " 9|1.000|0.363|2.2e-09|6.1e-03|8.9e+01| 9.360854e+01  6.771064e+00| 0:0:02| chol  1  1 \n",
      "10|1.000|0.491|1.7e-08|3.1e-03|4.2e+01| 5.656349e+01  1.490874e+01| 0:0:02| chol  1  1 \n",
      "11|1.000|0.352|1.3e-08|2.0e-03|2.5e+01| 4.445683e+01  1.928704e+01| 0:0:02| chol  1  1 \n",
      "12|1.000|0.410|6.8e-09|1.2e-03|1.6e+01| 3.884002e+01  2.317984e+01| 0:0:02| chol  1  1 \n",
      "13|1.000|0.333|3.7e-09|7.9e-04|1.1e+01| 3.586822e+01  2.540037e+01| 0:0:02| chol  1  1 \n",
      "14|1.000|0.430|1.1e-09|4.5e-04|6.2e+00| 3.375206e+01  2.755687e+01| 0:0:02| chol  1  1 \n",
      "15|1.000|0.391|7.1e-09|2.7e-04|3.7e+00| 3.253663e+01  2.890211e+01| 0:0:02| chol  2  2 \n",
      "16|1.000|0.457|3.4e-10|1.5e-04|2.1e+00| 3.204533e+01  2.999891e+01| 0:0:02| chol  1  1 \n",
      "17|1.000|0.479|8.2e-09|7.7e-05|1.0e+00| 3.173988e+01  3.072007e+01| 0:0:02| chol  2  1 \n",
      "18|1.000|0.336|3.0e-09|5.1e-05|7.4e-01| 3.172296e+01  3.098457e+01| 0:0:02| chol  2  2 \n",
      "19|1.000|0.330|1.3e-10|3.4e-05|5.1e-01| 3.167259e+01  3.117017e+01| 0:0:02| chol  2  2 \n",
      "20|1.000|0.486|2.3e-10|1.8e-05|2.7e-01| 3.163797e+01  3.136677e+01| 0:0:02| chol  2  2 \n",
      "21|1.000|0.369|1.4e-10|1.1e-05|1.7e-01| 3.161893e+01  3.144904e+01| 0:0:02| chol  2  2 \n",
      "22|1.000|0.434|1.7e-10|6.3e-06|1.0e-01| 3.161304e+01  3.151191e+01| 0:0:02| chol  2  1 \n",
      "23|1.000|0.559|6.4e-10|2.8e-06|4.4e-02| 3.160509e+01  3.156173e+01| 0:0:02| chol  2  2 \n",
      "24|1.000|0.455|2.4e-10|1.5e-06|2.5e-02| 3.160431e+01  3.157989e+01| 0:0:03| chol  2  1 \n",
      "25|0.981|0.772|9.9e-10|3.5e-07|5.5e-03| 3.160306e+01  3.159762e+01| 0:0:03| chol  1  1 \n",
      "26|1.000|0.627|1.6e-09|1.4e-06|2.1e-03| 3.160299e+01  3.160093e+01| 0:0:03| chol  1  1 \n",
      "27|0.976|0.978|3.7e-11|5.4e-07|5.3e-05| 3.160295e+01  3.160290e+01| 0:0:03| chol  1  1 \n",
      "28|1.000|0.971|9.4e-14|1.4e-08|2.4e-06| 3.160294e+01  3.160294e+01| 0:0:03| chol  1  1 \n",
      "29|1.000|0.985|1.3e-13|6.4e-10|8.6e-08| 3.160294e+01  3.160294e+01| 0:0:03|\n",
      "  stop: max(relative gap, infeasibilities) < 1.49e-08\n",
      "-------------------------------------------------------------------\n",
      " number of iterations   = 29\n",
      " primal objective value =  3.16029433e+01\n",
      " dual   objective value =  3.16029432e+01\n",
      " gap := trace(XZ)       = 8.56e-08\n",
      " relative gap           = 1.33e-09\n",
      " actual relative gap    = 1.24e-09\n",
      " rel. primal infeas (scaled problem)   = 1.31e-13\n",
      " rel. dual     \"        \"       \"      = 6.42e-10\n",
      " rel. primal infeas (unscaled problem) = 0.00e+00\n",
      " rel. dual     \"        \"       \"      = 0.00e+00\n",
      " norm(X), norm(y), norm(Z) = 1.2e+01, 5.6e+00, 1.0e+01\n",
      " norm(A), norm(b), norm(C) = 4.0e+01, 1.1e+01, 1.1e+01\n",
      " Total CPU time (secs)  = 2.86  \n",
      " CPU time per iteration = 0.10  \n",
      " termination code       =  0\n",
      " DIMACS: 7.2e-13  0.0e+00  3.5e-09  0.0e+00  1.2e-09  1.3e-09\n",
      "-------------------------------------------------------------------\n",
      " \n",
      "------------------------------------------------------------\n",
      "Status: Solved\n",
      "Optimal value (cvx_optval): +31.6029\n",
      " \n"
     ]
    }
   ],
   "source": [
    "cvx_begin\n",
    "    variables w(n) b xi(m)\n",
    "    minimize  1/2*sum(w.*w) + C*sum(xi)\n",
    "    y.*(X*w+b) >= 1- xi;\n",
    "    xi >= 0\n",
    "cvx_end"
   ]
  },
  {
   "cell_type": "code",
   "execution_count": 6,
   "metadata": {
    "collapsed": true
   },
   "outputs": [],
   "source": [
    "% visualize\n",
    "xp = linspace(min(X(:,1)), max(X(:,1)), 100);\n",
    "yp = - (w(1)*xp + b)/w(2);\n",
    "yp1 = - (w(1)*xp + b - 1)/w(2); % margin boundary for support vectors for y=1\n",
    "yp0 = - (w(1)*xp + b + 1)/w(2); % margin boundary for support vectors for y=0\n",
    "idx0 = find(q1y==0);\n",
    "idx1 = find(q1y==1);"
   ]
  },
  {
   "cell_type": "code",
   "execution_count": 9,
   "metadata": {},
   "outputs": [
    {
     "data": {
      "image/png": "[encoded data removed]",
      "text/plain": [
       "<IPython.core.display.Image object>"
      ]
     },
     "metadata": {},
     "output_type": "display_data"
    }
   ],
   "source": [
    "plot(q1x(idx0, 1), q1x(idx0, 2), 'rx'); hold on\n",
    "\n",
    "plot(q1x(idx1, 1), q1x(idx1, 2), 'go');\n",
    "plot(xp, yp, '-b', xp, yp1, '--g', xp, yp0, '--r');\n",
    "hold off\n",
    "title(sprintf('decision boundary for a linear SVM classifier with C=%g', C));"
   ]
  },
  {
   "cell_type": "code",
   "execution_count": 7,
   "metadata": {},
   "outputs": [
    {
     "name": "stdout",
     "output_type": "stream",
     "text": [
      "\n",
      "w =\n",
      "\n",
      "    0.4802\n",
      "    0.7507\n",
      "\n"
     ]
    }
   ],
   "source": [
    "w"
   ]
  },
  {
   "cell_type": "code",
   "execution_count": null,
   "metadata": {},
   "outputs": [],
   "source": [
    "xi"
   ]
  },
  {
   "cell_type": "code",
   "execution_count": null,
   "metadata": {
    "collapsed": true
   },
   "outputs": [],
   "source": []
  }
 ],
 "metadata": {
  "kernelspec": {
   "display_name": "Matlab",
   "language": "matlab",
   "name": "matlab"
  },
  "language_info": {
   "codemirror_mode": "octave",
   "file_extension": ".m",
   "help_links": [
    {
     "text": "MetaKernel Magics",
     "url": "https://github.com/calysto/metakernel/blob/master/metakernel/magics/README.md"
    }
   ],
   "mimetype": "text/x-octave",
   "name": "matlab",
   "version": "0.15.0"
  }
 },
 "nbformat": 4,
 "nbformat_minor": 2
}
