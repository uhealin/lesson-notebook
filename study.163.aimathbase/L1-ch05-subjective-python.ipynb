{
 "cells": [
  {
   "cell_type": "code",
   "execution_count": 73,
   "metadata": {
    "collapsed": true
   },
   "outputs": [],
   "source": [
    "import cvxpy\n",
    "import pandas\n",
    "import numpy \n",
    "import matplotlib.pyplot as plot"
   ]
  },
  {
   "cell_type": "code",
   "execution_count": 14,
   "metadata": {},
   "outputs": [
    {
     "data": {
      "text/plain": [
       "array([[ 1.3432504 , -1.3311479 ],\n",
       "       [ 1.8205529 , -0.6346681 ],\n",
       "       [ 0.98632067, -1.8885762 ],\n",
       "       [ 1.9443734 , -1.635452  ],\n",
       "       [ 0.97673352, -1.3533151 ],\n",
       "       [ 1.9458584 , -2.0443278 ],\n",
       "       [ 2.1075153 , -2.1256684 ],\n",
       "       [ 2.070373  , -2.4634101 ],\n",
       "       [ 0.86864964, -2.4119348 ],\n",
       "       [ 1.8006594 , -2.7739689 ]])"
      ]
     },
     "execution_count": 14,
     "metadata": {},
     "output_type": "execute_result"
    }
   ],
   "source": [
    "q1x=numpy.loadtxt(\"code/q1x.dat\")\n",
    "\n",
    "q1x[0:10]"
   ]
  },
  {
   "cell_type": "code",
   "execution_count": 19,
   "metadata": {},
   "outputs": [
    {
     "data": {
      "text/plain": [
       "array([ 0.,  0.,  0.,  0.,  0.,  0.,  0.,  0.,  0.,  0.])"
      ]
     },
     "execution_count": 19,
     "metadata": {},
     "output_type": "execute_result"
    }
   ],
   "source": [
    "q1y=numpy.loadtxt(\"code/q1y.dat\")\n",
    "\n",
    "q1y[0:10]"
   ]
  },
  {
   "cell_type": "code",
   "execution_count": 26,
   "metadata": {},
   "outputs": [
    {
     "data": {
      "text/plain": [
       "(99, 2)"
      ]
     },
     "execution_count": 26,
     "metadata": {},
     "output_type": "execute_result"
    }
   ],
   "source": [
    "X=q1x\n",
    "\n",
    "y=2*(q1y-0.5)\n",
    "\n",
    "C =1\n",
    "\n",
    "m,n=numpy.shape(X)\n",
    "\n",
    "m,n"
   ]
  },
  {
   "cell_type": "code",
   "execution_count": 57,
   "metadata": {
    "collapsed": true
   },
   "outputs": [],
   "source": [
    "b=cvxpy.Variable()\n",
    "w=cvxpy.Variable(n)\n",
    "xi=cvxpy.Variable(m)"
   ]
  },
  {
   "cell_type": "code",
   "execution_count": 101,
   "metadata": {},
   "outputs": [],
   "source": [
    "objective=cvxpy.Minimize( 1/2* sum( w* w.T  ) +C * sum(xi) )"
   ]
  },
  {
   "cell_type": "code",
   "execution_count": 102,
   "metadata": {},
   "outputs": [],
   "source": [
    "constraints=[y*( (X*w)+b) >= 1- xi,xi >= 0]"
   ]
  },
  {
   "cell_type": "code",
   "execution_count": 103,
   "metadata": {
    "collapsed": true
   },
   "outputs": [],
   "source": [
    "prob=cvxpy.Problem(objective,constraints)"
   ]
  },
  {
   "cell_type": "code",
   "execution_count": 104,
   "metadata": {},
   "outputs": [
    {
     "name": "stdout",
     "output_type": "stream",
     "text": [
      "\n",
      "ECOS 2.0.4 - (C) embotech GmbH, Zurich Switzerland, 2012-15. Web: www.embotech.com/ECOS\n",
      "\n",
      "It     pcost       dcost      gap   pres   dres    k/t    mu     step   sigma     IR    |   BT\n",
      " 0  +2.802e-10  +9.445e-02  +1e+02  9e-01  7e-02  1e+00  5e-01    ---    ---    1  1  - |  -  - \n",
      " 1  -9.693e-05  +1.037e-03  +1e+00  1e-02  8e-04  1e-02  6e-03  0.9890  1e-04   0  0  0 |  0  0\n",
      " 2  -1.070e-06  +1.150e-05  +1e-02  1e-04  9e-06  1e-04  6e-05  0.9890  1e-04   0  0  0 |  0  0\n",
      " 3  -1.180e-08  +1.276e-07  +1e-04  2e-06  1e-07  1e-06  7e-07  0.9890  1e-04   0  0  0 |  0  0\n",
      " 4  -1.130e-10  +1.429e-09  +2e-06  2e-08  1e-09  2e-08  8e-09  0.9890  1e-04   0  0  0 |  0  0\n",
      " 5  +3.998e-12  +2.049e-11  +2e-08  2e-10  2e-11  2e-10  9e-11  0.9890  1e-04   0  0  0 |  0  0\n",
      " 6  +1.277e-13  +3.025e-13  +2e-10  2e-12  2e-13  2e-12  1e-12  0.9890  1e-04   0  0  0 |  0  0\n",
      "\n",
      "OPTIMAL (within feastol=2.2e-12, reltol=6.2e+02, abstol=1.9e-10).\n",
      "Runtime: 0.016238 seconds.\n",
      "\n"
     ]
    },
    {
     "data": {
      "text/plain": [
       "1.27714941393133e-13"
      ]
     },
     "execution_count": 104,
     "metadata": {},
     "output_type": "execute_result"
    }
   ],
   "source": [
    "prob.solve(verbose=True)"
   ]
  },
  {
   "cell_type": "code",
   "execution_count": 71,
   "metadata": {
    "collapsed": true
   },
   "outputs": [],
   "source": [
    "xp = numpy.linspace(min(X[:,1]), max(X[:,1]), 100);\n",
    "yp = - (w.value[0]*xp + b)/w.value[1];\n",
    "\n",
    "yp1 = - (w.value[0]*xp + b - 1)/w.value[1];\n",
    "\n",
    "yp0 = - (w.value[0]*xp + b + 1)/w.value[1];\n",
    "\n",
    "idx0 = q1y[q1y==0];\n",
    "idx1 = q1y[q1y==1];"
   ]
  },
  {
   "cell_type": "code",
   "execution_count": 78,
   "metadata": {},
   "outputs": [
    {
     "data": {
      "text/plain": [
       "matrix([[ 0.05165295],\n",
       "        [ 0.04644358]])"
      ]
     },
     "execution_count": 78,
     "metadata": {},
     "output_type": "execute_result"
    }
   ],
   "source": [
    "w.value"
   ]
  },
  {
   "cell_type": "code",
   "execution_count": 79,
   "metadata": {},
   "outputs": [
    {
     "data": {
      "text/plain": [
       "matrix([[  1.29004991e-15],\n",
       "        [  1.29004991e-15],\n",
       "        [  1.29004991e-15],\n",
       "        [  1.29004991e-15],\n",
       "        [  1.29004991e-15],\n",
       "        [  1.29004991e-15],\n",
       "        [  1.29004991e-15],\n",
       "        [  1.29004991e-15],\n",
       "        [  1.29004991e-15],\n",
       "        [  1.29004991e-15],\n",
       "        [  1.29004991e-15],\n",
       "        [  1.29004991e-15],\n",
       "        [  1.29004991e-15],\n",
       "        [  1.29004991e-15],\n",
       "        [  1.29004991e-15],\n",
       "        [  1.29004991e-15],\n",
       "        [  1.29004991e-15],\n",
       "        [  1.29004991e-15],\n",
       "        [  1.29004991e-15],\n",
       "        [  1.29004991e-15],\n",
       "        [  1.29004991e-15],\n",
       "        [  1.29004991e-15],\n",
       "        [  1.29004991e-15],\n",
       "        [  1.29004991e-15],\n",
       "        [  1.29004991e-15],\n",
       "        [  1.29004991e-15],\n",
       "        [  1.29004991e-15],\n",
       "        [  1.29004991e-15],\n",
       "        [  1.29004991e-15],\n",
       "        [  1.29004991e-15],\n",
       "        [  1.29004991e-15],\n",
       "        [  1.29004991e-15],\n",
       "        [  1.29004991e-15],\n",
       "        [  1.29004991e-15],\n",
       "        [  1.29004991e-15],\n",
       "        [  1.29004991e-15],\n",
       "        [  1.29004991e-15],\n",
       "        [  1.29004991e-15],\n",
       "        [  1.29004991e-15],\n",
       "        [  1.29004991e-15],\n",
       "        [  1.29004991e-15],\n",
       "        [  1.29004991e-15],\n",
       "        [  1.29004991e-15],\n",
       "        [  1.29004991e-15],\n",
       "        [  1.29004991e-15],\n",
       "        [  1.29004991e-15],\n",
       "        [  1.29004991e-15],\n",
       "        [  1.29004991e-15],\n",
       "        [  1.29004991e-15],\n",
       "        [  1.29004991e-15],\n",
       "        [  1.29004991e-15],\n",
       "        [  1.29004991e-15],\n",
       "        [  1.29004991e-15],\n",
       "        [  1.29004991e-15],\n",
       "        [  1.29004991e-15],\n",
       "        [  1.29004991e-15],\n",
       "        [  1.29004991e-15],\n",
       "        [  1.29004991e-15],\n",
       "        [  1.29004991e-15],\n",
       "        [  1.29004991e-15],\n",
       "        [  1.29004991e-15],\n",
       "        [  1.29004991e-15],\n",
       "        [  1.29004991e-15],\n",
       "        [  1.29004991e-15],\n",
       "        [  1.29004991e-15],\n",
       "        [  1.29004991e-15],\n",
       "        [  1.29004991e-15],\n",
       "        [  1.29004991e-15],\n",
       "        [  1.29004991e-15],\n",
       "        [  1.29004991e-15],\n",
       "        [  1.29004991e-15],\n",
       "        [  1.29004991e-15],\n",
       "        [  1.29004991e-15],\n",
       "        [  1.29004991e-15],\n",
       "        [  1.29004991e-15],\n",
       "        [  1.29004991e-15],\n",
       "        [  1.29004991e-15],\n",
       "        [  1.29004991e-15],\n",
       "        [  1.29004991e-15],\n",
       "        [  1.29004991e-15],\n",
       "        [  1.29004991e-15],\n",
       "        [  1.29004991e-15],\n",
       "        [  1.29004991e-15],\n",
       "        [  1.29004991e-15],\n",
       "        [  1.29004991e-15],\n",
       "        [  1.29004991e-15],\n",
       "        [  1.29004991e-15],\n",
       "        [  1.29004991e-15],\n",
       "        [  1.29004991e-15],\n",
       "        [  1.29004991e-15],\n",
       "        [  1.29004991e-15],\n",
       "        [  1.29004991e-15],\n",
       "        [  1.29004991e-15],\n",
       "        [  1.29004991e-15],\n",
       "        [  1.29004991e-15],\n",
       "        [  1.29004991e-15],\n",
       "        [  1.29004991e-15],\n",
       "        [  1.29004991e-15],\n",
       "        [  1.29004991e-15]])"
      ]
     },
     "execution_count": 79,
     "metadata": {},
     "output_type": "execute_result"
    }
   ],
   "source": [
    "xi.value"
   ]
  },
  {
   "cell_type": "code",
   "execution_count": null,
   "metadata": {
    "collapsed": true
   },
   "outputs": [],
   "source": []
  }
 ],
 "metadata": {
  "kernelspec": {
   "display_name": "Python 2",
   "language": "python",
   "name": "python2"
  },
  "language_info": {
   "codemirror_mode": {
    "name": "ipython",
    "version": 2
   },
   "file_extension": ".py",
   "mimetype": "text/x-python",
   "name": "python",
   "nbconvert_exporter": "python",
   "pygments_lexer": "ipython2",
   "version": "2.7.14"
  }
 },
 "nbformat": 4,
 "nbformat_minor": 2
}
