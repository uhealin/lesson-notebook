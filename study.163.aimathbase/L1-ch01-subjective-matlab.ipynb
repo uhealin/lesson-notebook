{
 "cells": [
  {
   "cell_type": "code",
   "execution_count": 1,
   "metadata": {
    "collapsed": true
   },
   "outputs": [],
   "source": [
    "addpath('./code')"
   ]
  },
  {
   "cell_type": "code",
   "execution_count": 2,
   "metadata": {},
   "outputs": [
    {
     "name": "stdout",
     "output_type": "stream",
     "text": [
      "\n",
      "A =\n",
      "\n",
      "     1     0\n",
      "     0     2\n",
      "\n",
      "\n",
      "b =\n",
      "\n",
      "     0\n",
      "     0\n",
      "\n",
      "\n",
      "x0 =\n",
      "\n",
      "     2\n",
      "     1\n",
      "\n",
      "\n",
      "epsilon =\n",
      "\n",
      "   1.0000e-05\n",
      "\n"
     ]
    }
   ],
   "source": [
    "\n",
    "\n",
    "A=[1 0;0 2]\n",
    "b=[0;0]\n",
    "x0=[2;1]\n",
    "epsilon=1e-5\n",
    "\n"
   ]
  },
  {
   "cell_type": "code",
   "execution_count": 3,
   "metadata": {},
   "outputs": [
    {
     "name": "stdout",
     "output_type": "stream",
     "text": [
      "iter_number =   1 norm_grad = 1.885618 fun_val = 0.666667 \n",
      "iter_number =   2 norm_grad = 0.628539 fun_val = 0.074074 \n",
      "iter_number =   3 norm_grad = 0.209513 fun_val = 0.008230 \n",
      "iter_number =   4 norm_grad = 0.069838 fun_val = 0.000914 \n",
      "iter_number =   5 norm_grad = 0.023279 fun_val = 0.000102 \n",
      "iter_number =   6 norm_grad = 0.007760 fun_val = 0.000011 \n",
      "iter_number =   7 norm_grad = 0.002587 fun_val = 0.000001 \n",
      "iter_number =   8 norm_grad = 0.000862 fun_val = 0.000000 \n",
      "iter_number =   9 norm_grad = 0.000287 fun_val = 0.000000 \n",
      "iter_number =  10 norm_grad = 0.000096 fun_val = 0.000000 \n",
      "iter_number =  11 norm_grad = 0.000032 fun_val = 0.000000 \n",
      "iter_number =  12 norm_grad = 0.000011 fun_val = 0.000000 \n",
      "iter_number =  13 norm_grad = 0.000004 fun_val = 0.000000 \n",
      "\n",
      "ans =\n",
      "\n",
      "   1.0e-05 *\n",
      "\n",
      "    0.1254\n",
      "   -0.0627\n",
      "\n"
     ]
    }
   ],
   "source": [
    "gradient_method_quadratic(A,b,x0,epsilon)"
   ]
  },
  {
   "cell_type": "code",
   "execution_count": null,
   "metadata": {},
   "outputs": [],
   "source": [
    "x=x0\n",
    "grad=2*(A*x+b)\n",
    "\n"
   ]
  },
  {
   "cell_type": "code",
   "execution_count": 6,
   "metadata": {},
   "outputs": [
    {
     "name": "stderr",
     "output_type": "stream",
     "text": [
      "\u001b[0;31mError using eval\n",
      "Undefined function or variable 'grad'.\n",
      "\n",
      "\u001b[0m"
     ]
    }
   ],
   "source": [
    "grad"
   ]
  },
  {
   "cell_type": "code",
   "execution_count": null,
   "metadata": {
    "collapsed": true
   },
   "outputs": [],
   "source": []
  }
 ],
 "metadata": {
  "kernelspec": {
   "display_name": "Matlab",
   "language": "matlab",
   "name": "matlab"
  },
  "language_info": {
   "codemirror_mode": "octave",
   "file_extension": ".m",
   "help_links": [
    {
     "text": "MetaKernel Magics",
     "url": "https://github.com/calysto/metakernel/blob/master/metakernel/magics/README.md"
    }
   ],
   "mimetype": "text/x-octave",
   "name": "matlab",
   "version": "0.15.0"
  }
 },
 "nbformat": 4,
 "nbformat_minor": 2
}
