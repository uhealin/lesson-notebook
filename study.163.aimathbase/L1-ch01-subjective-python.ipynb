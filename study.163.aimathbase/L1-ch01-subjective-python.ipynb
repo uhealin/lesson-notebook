{
 "cells": [
  {
   "cell_type": "markdown",
   "metadata": {},
   "source": [
    "熟读并实操课程中提供的案例代码，尝试用Python语言重写，同时思考如何用这个代码求取线性回归模型"
   ]
  },
  {
   "cell_type": "code",
   "execution_count": 2,
   "metadata": {
    "collapsed": true
   },
   "outputs": [],
   "source": [
    "import numpy as np\n",
    "ln='-'*30"
   ]
  },
  {
   "cell_type": "code",
   "execution_count": 84,
   "metadata": {
    "collapsed": true
   },
   "outputs": [],
   "source": [
    "def gradient_method_quadratic(A,b,x0,epsilon):\n",
    "    x=np.mat(x0)\n",
    "    iters=0\n",
    "    grad=2*(A*x+b);\n",
    "    while (np.linalg.norm(grad)>epsilon):\n",
    "        iters=iters+1;\n",
    "        grad_norm=np.linalg.norm(grad);\n",
    "        Grad=2*(grad.T)*A*grad;\n",
    "        Grad=float(Grad)\n",
    "        #print Grad,(grad_norm**2)\n",
    "        t=grad_norm**2/Grad\n",
    "        print x,t,grad\n",
    "        x=x-t*grad;\n",
    "        grad=2*(A*x+b);\n",
    "        fun_val=x.T*A*x+2*b.T*x;\n",
    "        print 'iter_number = %3d norm_grad = %2.6f fun_val = %2.6f \\n' % (iters,grad_norm,fun_val);\n",
    "\n"
   ]
  },
  {
   "cell_type": "code",
   "execution_count": 85,
   "metadata": {},
   "outputs": [
    {
     "name": "stdout",
     "output_type": "stream",
     "text": [
      "[[1 0]\n",
      " [0 2]] ------------------------------ [[0]\n",
      " [0]] ------------------------------ [[2]\n",
      " [1]] ------------------------------ 1e-05\n"
     ]
    }
   ],
   "source": [
    "A= np.array([[1,0],[0,2]])\n",
    "b=np.array([[0],[0]])\n",
    "x0=np.array([[2],[1]])\n",
    "epsilon=1e-5\n",
    "\n",
    "print A,ln,b,ln,x0,ln,epsilon\n"
   ]
  },
  {
   "cell_type": "code",
   "execution_count": 86,
   "metadata": {},
   "outputs": [
    {
     "name": "stdout",
     "output_type": "stream",
     "text": [
      "[[2]\n",
      " [1]] 0.333333333333 [[4]\n",
      " [4]]\n",
      "iter_number =   1 norm_grad = 5.656854 fun_val = 0.666667 \n",
      "\n",
      "[[ 0.66666667]\n",
      " [-0.33333333]] 0.333333333333 [[ 1.33333333]\n",
      " [-1.33333333]]\n",
      "iter_number =   2 norm_grad = 1.885618 fun_val = 0.074074 \n",
      "\n",
      "[[ 0.22222222]\n",
      " [ 0.11111111]] 0.333333333333 [[ 0.44444444]\n",
      " [ 0.44444444]]\n",
      "iter_number =   3 norm_grad = 0.628539 fun_val = 0.008230 \n",
      "\n",
      "[[ 0.07407407]\n",
      " [-0.03703704]] 0.333333333333 [[ 0.14814815]\n",
      " [-0.14814815]]\n",
      "iter_number =   4 norm_grad = 0.209513 fun_val = 0.000914 \n",
      "\n",
      "[[ 0.02469136]\n",
      " [ 0.01234568]] 0.333333333333 [[ 0.04938272]\n",
      " [ 0.04938272]]\n",
      "iter_number =   5 norm_grad = 0.069838 fun_val = 0.000102 \n",
      "\n",
      "[[ 0.00823045]\n",
      " [-0.00411523]] 0.333333333333 [[ 0.01646091]\n",
      " [-0.01646091]]\n",
      "iter_number =   6 norm_grad = 0.023279 fun_val = 0.000011 \n",
      "\n",
      "[[ 0.00274348]\n",
      " [ 0.00137174]] 0.333333333333 [[ 0.00548697]\n",
      " [ 0.00548697]]\n",
      "iter_number =   7 norm_grad = 0.007760 fun_val = 0.000001 \n",
      "\n",
      "[[ 0.00091449]\n",
      " [-0.00045725]] 0.333333333333 [[ 0.00182899]\n",
      " [-0.00182899]]\n",
      "iter_number =   8 norm_grad = 0.002587 fun_val = 0.000000 \n",
      "\n",
      "[[ 0.00030483]\n",
      " [ 0.00015242]] 0.333333333333 [[ 0.00060966]\n",
      " [ 0.00060966]]\n",
      "iter_number =   9 norm_grad = 0.000862 fun_val = 0.000000 \n",
      "\n",
      "[[  1.01610527e-04]\n",
      " [ -5.08052634e-05]] 0.333333333333 [[ 0.00020322]\n",
      " [-0.00020322]]\n",
      "iter_number =  10 norm_grad = 0.000287 fun_val = 0.000000 \n",
      "\n",
      "[[  3.38701756e-05]\n",
      " [  1.69350878e-05]] 0.333333333333 [[  6.77403512e-05]\n",
      " [  6.77403512e-05]]\n",
      "iter_number =  11 norm_grad = 0.000096 fun_val = 0.000000 \n",
      "\n",
      "[[  1.12900585e-05]\n",
      " [ -5.64502927e-06]] 0.333333333333 [[  2.25801171e-05]\n",
      " [ -2.25801171e-05]]\n",
      "iter_number =  12 norm_grad = 0.000032 fun_val = 0.000000 \n",
      "\n",
      "[[  3.76335285e-06]\n",
      " [  1.88167642e-06]] 0.333333333333 [[  7.52670569e-06]\n",
      " [  7.52670569e-06]]\n",
      "iter_number =  13 norm_grad = 0.000011 fun_val = 0.000000 \n",
      "\n"
     ]
    }
   ],
   "source": [
    "gradient_method_quadratic(A,b,x0,epsilon)"
   ]
  },
  {
   "cell_type": "code",
   "execution_count": 32,
   "metadata": {},
   "outputs": [
    {
     "data": {
      "text/plain": [
       "matrix([[4],\n",
       "        [4]])"
      ]
     },
     "execution_count": 32,
     "metadata": {},
     "output_type": "execute_result"
    }
   ],
   "source": [
    "x=np.mat(x0)\n",
    "grad=2*(A*x+b)\n",
    "\n",
    "grad"
   ]
  },
  {
   "cell_type": "code",
   "execution_count": 35,
   "metadata": {},
   "outputs": [
    {
     "data": {
      "text/plain": [
       "matrix([[96]])"
      ]
     },
     "execution_count": 35,
     "metadata": {},
     "output_type": "execute_result"
    }
   ],
   "source": [
    "2*(grad.T)*A*grad"
   ]
  },
  {
   "cell_type": "code",
   "execution_count": 53,
   "metadata": {},
   "outputs": [
    {
     "data": {
      "text/plain": [
       "32.000000000000007"
      ]
     },
     "execution_count": 53,
     "metadata": {},
     "output_type": "execute_result"
    }
   ],
   "source": [
    "grad_norm=np.linalg.norm(grad)\n",
    "\n",
    "\n",
    "grad_norm**2"
   ]
  },
  {
   "cell_type": "code",
   "execution_count": 71,
   "metadata": {},
   "outputs": [
    {
     "data": {
      "text/plain": [
       "96"
      ]
     },
     "execution_count": 71,
     "metadata": {},
     "output_type": "execute_result"
    }
   ],
   "source": [
    "Grad=2*(grad.T)*A*grad;\n",
    "\n",
    "int(Grad)"
   ]
  },
  {
   "cell_type": "code",
   "execution_count": null,
   "metadata": {
    "collapsed": true
   },
   "outputs": [],
   "source": []
  }
 ],
 "metadata": {
  "kernelspec": {
   "display_name": "Python 2",
   "language": "python",
   "name": "python2"
  },
  "language_info": {
   "codemirror_mode": {
    "name": "ipython",
    "version": 2
   },
   "file_extension": ".py",
   "mimetype": "text/x-python",
   "name": "python",
   "nbconvert_exporter": "python",
   "pygments_lexer": "ipython2",
   "version": "2.7.14"
  }
 },
 "nbformat": 4,
 "nbformat_minor": 2
}
